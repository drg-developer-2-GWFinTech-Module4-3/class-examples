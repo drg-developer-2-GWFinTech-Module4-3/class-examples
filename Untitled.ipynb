{
 "cells": [
  {
   "cell_type": "code",
   "execution_count": 7,
   "metadata": {},
   "outputs": [
    {
     "name": "stdout",
     "output_type": "stream",
     "text": [
      "T\n",
      "e\n",
      "s\n",
      "t\n",
      " \n",
      "d\n",
      "a\n",
      "t\n",
      "a\n"
     ]
    }
   ],
   "source": [
    "text=\"Test data\"\n",
    "for l in text:\n",
    "    print(l)\n",
    "\n",
    "def computeMaxProfit(priceData):\n",
    "    \n",
    "    # Get input data\n",
    "\n",
    "    priceData = [\n",
    "        (1000, 1.42),\n",
    "        (1005, 1.32), \n",
    "        (1010, 1.45),\n",
    "        (1015, 1.20), \n",
    "        (1020, 1.34), \n",
    "        (1025, 1.74), \n",
    "        (1030, 1.10), \n",
    "        (1035, 1.89), \n",
    "        (1040, 1.42),\n",
    "        (1045, 1.90), \n",
    "        (1050, 1.80), \n",
    "        (1055, 1.85)\n",
    "    ]\n",
    "\n",
    "    # Initialize cache\n",
    "    minPrice = None\n",
    "    maxPrice = None\n",
    "    buyTime = None\n",
    "    sellTime = None\n",
    "\n",
    "    # Iterate through data\n",
    "    for pair in priceData:\n",
    "\n",
    "        time=pair[0]\n",
    "        price=pair[1]\n",
    "\n",
    "        # Compare and update cache\n",
    "        if maxPrice is None or price > maxPrice:\n",
    "            maxPrice = price\n",
    "            sellTime = time\n",
    "        elif minPrice is None or price < minPrice:\n",
    "            minPrice = price\n",
    "            buyTime = time\n",
    "\n",
    "    # Calculate max profit\n",
    "    maxProfit= maxPrice - minPrice\n",
    "    maxProfitPercentage = maxProfit / minPrice\n",
    "\n",
    "    # Report results\n",
    "    print(f\"Best profit occurs at buy: {buyTime} sell: {sellTime} resulting in ${maxProfit} == {maxProfitPercentage}%\")\n"
   ]
  },
  {
   "cell_type": "code",
   "execution_count": null,
   "metadata": {},
   "outputs": [],
   "source": []
  }
 ],
 "metadata": {
  "kernelspec": {
   "display_name": "Python 3",
   "language": "python",
   "name": "python3"
  },
  "language_info": {
   "codemirror_mode": {
    "name": "ipython",
    "version": 3
   },
   "file_extension": ".py",
   "mimetype": "text/x-python",
   "name": "python",
   "nbconvert_exporter": "python",
   "pygments_lexer": "ipython3",
   "version": "3.8.3"
  }
 },
 "nbformat": 4,
 "nbformat_minor": 4
}
