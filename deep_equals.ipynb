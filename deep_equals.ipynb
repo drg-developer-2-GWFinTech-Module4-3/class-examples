{
 "cells": [
  {
   "cell_type": "code",
   "execution_count": 3,
   "metadata": {},
   "outputs": [
    {
     "name": "stdout",
     "output_type": "stream",
     "text": [
      "Lists are equal: False\n"
     ]
    }
   ],
   "source": [
    "# Initialize input data\n",
    "first = [1, 2, 3]\n",
    "second = [3, 2, 1]\n",
    "\n",
    "# Define function\n",
    "def compare_deep_equals(list1, list2):\n",
    "    \n",
    "    # Basic checks\n",
    "#    if not type(list1) is python.List.type or not type(list2) is python.List.type:\n",
    "#        return False\n",
    "    if not len(list1) == len(list2):\n",
    "        return False\n",
    "    \n",
    "    # Pair-wise comparison\n",
    "    for i in range(0, len(list1)):\n",
    "        \n",
    "        item1 = list1[i]\n",
    "        item2 = list2[i]\n",
    "        \n",
    "        # Pair-wise basic checks\n",
    "        if not type(item1) == type(item2):\n",
    "            return False\n",
    "        \n",
    "        # Direct comparison\n",
    "        if not item1 == item2:\n",
    "            return False\n",
    "    \n",
    "    # No inequivalencies found\n",
    "    return True\n",
    "\n",
    "# Run function and print results\n",
    "print(f\"Lists are equal: {compare_deep_equals(first, second)}\")"
   ]
  },
  {
   "cell_type": "code",
   "execution_count": null,
   "metadata": {},
   "outputs": [],
   "source": []
  }
 ],
 "metadata": {
  "kernelspec": {
   "display_name": "Python 3",
   "language": "python",
   "name": "python3"
  },
  "language_info": {
   "codemirror_mode": {
    "name": "ipython",
    "version": 3
   },
   "file_extension": ".py",
   "mimetype": "text/x-python",
   "name": "python",
   "nbconvert_exporter": "python",
   "pygments_lexer": "ipython3",
   "version": "3.8.3"
  }
 },
 "nbformat": 4,
 "nbformat_minor": 4
}
